{
 "cells": [
  {
   "cell_type": "code",
   "execution_count": 30,
   "id": "5016e4c0",
   "metadata": {},
   "outputs": [
    {
     "name": "stdout",
     "output_type": "stream",
     "text": [
      "1. List of 15 ones:\n",
      "[1, 1, 1, 1, 1, 1, 1, 1, 1, 1, 1, 1, 1, 1, 1]\n"
     ]
    }
   ],
   "source": [
    "ones_list = [1] * 15\n",
    "print(\"1. List of 15 ones:\")\n",
    "print(ones_list)\n"
   ]
  },
  {
   "cell_type": "code",
   "execution_count": 31,
   "id": "15712921",
   "metadata": {},
   "outputs": [
    {
     "name": "stdout",
     "output_type": "stream",
     "text": [
      "2. List of 15 sevens:\n",
      "[7, 7, 7, 7, 7, 7, 7, 7, 7, 7, 7, 7, 7, 7, 7]\n"
     ]
    }
   ],
   "source": [
    "sevens_list = [7] * 15\n",
    "print(\"2. List of 15 sevens:\")\n",
    "print(sevens_list)\n"
   ]
  },
  {
   "cell_type": "code",
   "execution_count": 32,
   "id": "697ee840",
   "metadata": {},
   "outputs": [
    {
     "name": "stdout",
     "output_type": "stream",
     "text": [
      "3. Numbers from 100 to 150:\n",
      "[100, 101, 102, 103, 104, 105, 106, 107, 108, 109, 110, 111, 112, 113, 114, 115, 116, 117, 118, 119, 120, 121, 122, 123, 124, 125, 126, 127, 128, 129, 130, 131, 132, 133, 134, 135, 136, 137, 138, 139, 140, 141, 142, 143, 144, 145, 146, 147, 148, 149, 150]\n"
     ]
    }
   ],
   "source": [
    "range_list = list(range(100, 151))\n",
    "print(\"3. Numbers from 100 to 150:\")\n",
    "print(range_list)\n"
   ]
  },
  {
   "cell_type": "code",
   "execution_count": 33,
   "id": "c6c5ab9b",
   "metadata": {},
   "outputs": [
    {
     "name": "stdout",
     "output_type": "stream",
     "text": [
      "4. Even numbers between 0 and 100:\n",
      "[0, 2, 4, 6, 8, 10, 12, 14, 16, 18, 20, 22, 24, 26, 28, 30, 32, 34, 36, 38, 40, 42, 44, 46, 48, 50, 52, 54, 56, 58, 60, 62, 64, 66, 68, 70, 72, 74, 76, 78, 80, 82, 84, 86, 88, 90, 92, 94, 96, 98, 100]\n"
     ]
    }
   ],
   "source": [
    "even_list = [x for x in range(0, 101) if x % 2 == 0]\n",
    "print(\"4. Even numbers between 0 and 100:\")\n",
    "print(even_list)\n"
   ]
  },
  {
   "cell_type": "code",
   "execution_count": 34,
   "id": "84a7be01",
   "metadata": {},
   "outputs": [
    {
     "name": "stdout",
     "output_type": "stream",
     "text": [
      "5. Leap years between 1950 and 2020:\n",
      "[1952, 1956, 1960, 1964, 1968, 1972, 1976, 1980, 1984, 1988, 1992, 1996, 2000, 2004, 2008, 2012, 2016, 2020]\n"
     ]
    }
   ],
   "source": [
    "leap_years = [year for year in range(1950, 2021) if year % 4 == 0]\n",
    "print(\"5. Leap years between 1950 and 2020:\")\n",
    "print(leap_years)\n"
   ]
  },
  {
   "cell_type": "code",
   "execution_count": 35,
   "id": "c80d9728",
   "metadata": {},
   "outputs": [
    {
     "name": "stdout",
     "output_type": "stream",
     "text": [
      "1. Array of 15 zeroes:\n",
      "[0. 0. 0. 0. 0. 0. 0. 0. 0. 0. 0. 0. 0. 0. 0.]\n"
     ]
    }
   ],
   "source": [
    "import numpy as np\n",
    "\n",
    "zeros_arr = np.zeros(15)\n",
    "print(\"1. Array of 15 zeroes:\")\n",
    "print(zeros_arr)\n"
   ]
  },
  {
   "cell_type": "code",
   "execution_count": 36,
   "id": "5be9fcd7",
   "metadata": {},
   "outputs": [
    {
     "name": "stdout",
     "output_type": "stream",
     "text": [
      "2. Array of 15 ones:\n",
      "[1. 1. 1. 1. 1. 1. 1. 1. 1. 1. 1. 1. 1. 1. 1.]\n"
     ]
    }
   ],
   "source": [
    "ones_arr = np.ones(15)\n",
    "print(\"2. Array of 15 ones:\")\n",
    "print(ones_arr)\n"
   ]
  },
  {
   "cell_type": "code",
   "execution_count": 37,
   "id": "172ed7ea",
   "metadata": {},
   "outputs": [
    {
     "name": "stdout",
     "output_type": "stream",
     "text": [
      "3. Array of 15 sevens:\n",
      "[7 7 7 7 7 7 7 7 7 7 7 7 7 7 7]\n"
     ]
    }
   ],
   "source": [
    "sevens_arr = np.full(15, 7)\n",
    "print(\"3. Array of 15 sevens:\")\n",
    "print(sevens_arr)\n"
   ]
  },
  {
   "cell_type": "code",
   "execution_count": 38,
   "id": "5461c111",
   "metadata": {},
   "outputs": [
    {
     "name": "stdout",
     "output_type": "stream",
     "text": [
      "4. Numbers from 100 to 150:\n",
      "[100 101 102 103 104 105 106 107 108 109 110 111 112 113 114 115 116 117\n",
      " 118 119 120 121 122 123 124 125 126 127 128 129 130 131 132 133 134 135\n",
      " 136 137 138 139 140 141 142 143 144 145 146 147 148 149 150]\n"
     ]
    }
   ],
   "source": [
    "range_arr = np.arange(100, 151)\n",
    "print(\"4. Numbers from 100 to 150:\")\n",
    "print(range_arr)\n"
   ]
  },
  {
   "cell_type": "code",
   "execution_count": 39,
   "id": "c44f3317",
   "metadata": {},
   "outputs": [
    {
     "name": "stdout",
     "output_type": "stream",
     "text": [
      "5. Years from 1900 to 2021:\n",
      "[1900 1901 1902 1903 1904 1905 1906 1907 1908 1909 1910 1911 1912 1913\n",
      " 1914 1915 1916 1917 1918 1919 1920 1921 1922 1923 1924 1925 1926 1927\n",
      " 1928 1929 1930 1931 1932 1933 1934 1935 1936 1937 1938 1939 1940 1941\n",
      " 1942 1943 1944 1945 1946 1947 1948 1949 1950 1951 1952 1953 1954 1955\n",
      " 1956 1957 1958 1959 1960 1961 1962 1963 1964 1965 1966 1967 1968 1969\n",
      " 1970 1971 1972 1973 1974 1975 1976 1977 1978 1979 1980 1981 1982 1983\n",
      " 1984 1985 1986 1987 1988 1989 1990 1991 1992 1993 1994 1995 1996 1997\n",
      " 1998 1999 2000 2001 2002 2003 2004 2005 2006 2007 2008 2009 2010 2011\n",
      " 2012 2013 2014 2015 2016 2017 2018 2019 2020 2021]\n"
     ]
    }
   ],
   "source": [
    "years_arr = np.arange(1900, 2022)\n",
    "print(\"5. Years from 1900 to 2021:\")\n",
    "print(years_arr)\n"
   ]
  },
  {
   "cell_type": "code",
   "execution_count": 40,
   "id": "73109490",
   "metadata": {},
   "outputs": [
    {
     "name": "stdout",
     "output_type": "stream",
     "text": [
      "6. Even numbers between 0 and 100:\n",
      "[  0   2   4   6   8  10  12  14  16  18  20  22  24  26  28  30  32  34\n",
      "  36  38  40  42  44  46  48  50  52  54  56  58  60  62  64  66  68  70\n",
      "  72  74  76  78  80  82  84  86  88  90  92  94  96  98 100]\n"
     ]
    }
   ],
   "source": [
    "even_arr = np.arange(0, 101, 2)\n",
    "print(\"6. Even numbers between 0 and 100:\")\n",
    "print(even_arr)\n"
   ]
  },
  {
   "cell_type": "code",
   "execution_count": 41,
   "id": "b7bf33b9",
   "metadata": {},
   "outputs": [
    {
     "name": "stdout",
     "output_type": "stream",
     "text": [
      "7. Leap years between 1950 and 2020:\n",
      "[1952 1956 1960 1964 1968 1972 1976 1980 1984 1988 1992 1996 2000 2004\n",
      " 2008 2012 2016 2020]\n"
     ]
    }
   ],
   "source": [
    "leap_arr = np.arange(1952, 2021, 4)\n",
    "print(\"7. Leap years between 1950 and 2020:\")\n",
    "print(leap_arr)\n"
   ]
  },
  {
   "cell_type": "code",
   "execution_count": 42,
   "id": "0e9b4a1c",
   "metadata": {},
   "outputs": [
    {
     "name": "stdout",
     "output_type": "stream",
     "text": [
      "1. 7x7 matrix (1-49):\n",
      "[[ 1  2  3  4  5  6  7]\n",
      " [ 8  9 10 11 12 13 14]\n",
      " [15 16 17 18 19 20 21]\n",
      " [22 23 24 25 26 27 28]\n",
      " [29 30 31 32 33 34 35]\n",
      " [36 37 38 39 40 41 42]\n",
      " [43 44 45 46 47 48 49]]\n"
     ]
    }
   ],
   "source": [
    "matrix_7x7 = np.arange(1, 50).reshape(7, 7)\n",
    "print(\"1. 7x7 matrix (1-49):\")\n",
    "print(matrix_7x7)\n"
   ]
  },
  {
   "cell_type": "code",
   "execution_count": 43,
   "id": "7f3d79bd",
   "metadata": {},
   "outputs": [
    {
     "name": "stdout",
     "output_type": "stream",
     "text": [
      "Python list version:\n",
      "[[1, 2, 3, 4, 5, 6, 7], [8, 9, 10, 11, 12, 13, 14], [15, 16, 17, 18, 19, 20, 21], [22, 23, 24, 25, 26, 27, 28], [29, 30, 31, 32, 33, 34, 35], [36, 37, 38, 39, 40, 41, 42], [43, 44, 45, 46, 47, 48, 49]]\n"
     ]
    }
   ],
   "source": [
    "py_matrix = []\n",
    "for i in range(7):\n",
    "    row = list(range(1 + i*7, 8 + i*7))\n",
    "    py_matrix.append(row)\n",
    "print(\"Python list version:\")\n",
    "print(py_matrix)\n"
   ]
  },
  {
   "cell_type": "code",
   "execution_count": 44,
   "id": "eff26c96",
   "metadata": {},
   "outputs": [
    {
     "name": "stdout",
     "output_type": "stream",
     "text": [
      "2. 8x8 random matrix (0-5):\n",
      "[[3.14622609 2.29413409 2.68602377 1.95211475 2.69696618 4.24476979\n",
      "  4.3016272  3.67270321]\n",
      " [2.15957413 0.85356527 2.14476162 1.90584155 0.14513546 1.54153659\n",
      "  3.40841456 0.72527598]\n",
      " [1.60119542 1.73679557 2.57227734 3.6818686  1.67346294 2.43655845\n",
      "  0.93710623 3.15277874]\n",
      " [1.18996034 0.6530877  1.30043224 0.99037694 3.71978738 4.77573907\n",
      "  0.18719415 4.89808736]\n",
      " [4.63737192 2.19284537 2.45205037 0.51943828 4.41321567 1.34101923\n",
      "  0.85248474 1.56428069]\n",
      " [1.52017284 0.2223161  0.23471155 3.53305927 4.13862431 1.33902847\n",
      "  0.93207669 1.52242472]\n",
      " [2.38016184 3.34454676 4.34771126 3.22986409 3.78817925 4.37148512\n",
      "  4.61218549 2.00819799]\n",
      " [2.54104654 1.99535623 4.56805637 0.47478675 3.92789977 1.49315726\n",
      "  3.14126116 2.43616771]]\n"
     ]
    }
   ],
   "source": [
    "random_matrix = np.random.uniform(0, 5, (8, 8))\n",
    "print(\"2. 8x8 random matrix (0-5):\")\n",
    "print(random_matrix)\n"
   ]
  },
  {
   "cell_type": "code",
   "execution_count": 45,
   "id": "034ec6b7",
   "metadata": {},
   "outputs": [
    {
     "name": "stdout",
     "output_type": "stream",
     "text": [
      "1. 10 values between 0 and 1:\n",
      "[0.         0.11111111 0.22222222 0.33333333 0.44444444 0.55555556\n",
      " 0.66666667 0.77777778 0.88888889 1.        ]\n"
     ]
    }
   ],
   "source": [
    "linspace_arr = np.linspace(0, 1, 10)\n",
    "print(\"1. 10 values between 0 and 1:\")\n",
    "print(linspace_arr)\n"
   ]
  },
  {
   "cell_type": "code",
   "execution_count": 46,
   "id": "b92cd844",
   "metadata": {},
   "outputs": [
    {
     "name": "stdout",
     "output_type": "stream",
     "text": [
      "2. 10x10 matrix between 0 and 5:\n",
      "[[0.         0.05050505 0.1010101  0.15151515 0.2020202  0.25252525\n",
      "  0.3030303  0.35353535 0.4040404  0.45454545]\n",
      " [0.50505051 0.55555556 0.60606061 0.65656566 0.70707071 0.75757576\n",
      "  0.80808081 0.85858586 0.90909091 0.95959596]\n",
      " [1.01010101 1.06060606 1.11111111 1.16161616 1.21212121 1.26262626\n",
      "  1.31313131 1.36363636 1.41414141 1.46464646]\n",
      " [1.51515152 1.56565657 1.61616162 1.66666667 1.71717172 1.76767677\n",
      "  1.81818182 1.86868687 1.91919192 1.96969697]\n",
      " [2.02020202 2.07070707 2.12121212 2.17171717 2.22222222 2.27272727\n",
      "  2.32323232 2.37373737 2.42424242 2.47474747]\n",
      " [2.52525253 2.57575758 2.62626263 2.67676768 2.72727273 2.77777778\n",
      "  2.82828283 2.87878788 2.92929293 2.97979798]\n",
      " [3.03030303 3.08080808 3.13131313 3.18181818 3.23232323 3.28282828\n",
      "  3.33333333 3.38383838 3.43434343 3.48484848]\n",
      " [3.53535354 3.58585859 3.63636364 3.68686869 3.73737374 3.78787879\n",
      "  3.83838384 3.88888889 3.93939394 3.98989899]\n",
      " [4.04040404 4.09090909 4.14141414 4.19191919 4.24242424 4.29292929\n",
      "  4.34343434 4.39393939 4.44444444 4.49494949]\n",
      " [4.54545455 4.5959596  4.64646465 4.6969697  4.74747475 4.7979798\n",
      "  4.84848485 4.8989899  4.94949495 5.        ]]\n"
     ]
    }
   ],
   "source": [
    "linspace_matrix = np.linspace(0, 5, 100).reshape(10, 10)\n",
    "print(\"2. 10x10 matrix between 0 and 5:\")\n",
    "print(linspace_matrix)\n"
   ]
  },
  {
   "cell_type": "code",
   "execution_count": 47,
   "id": "79e1a502",
   "metadata": {},
   "outputs": [
    {
     "name": "stdout",
     "output_type": "stream",
     "text": [
      "1. 3x5 matrix:\n",
      "[[1 2 3 4 5]\n",
      " [6 7 8 7 6]\n",
      " [5 4 3 2 1]]\n"
     ]
    }
   ],
   "source": [
    "matrix_3x5 = np.array([\n",
    "    [1, 2, 3, 4, 5],\n",
    "    [6, 7, 8, 7, 6],\n",
    "    [5, 4, 3, 2, 1]\n",
    "])\n",
    "print(\"1. 3x5 matrix:\")\n",
    "print(matrix_3x5)\n"
   ]
  },
  {
   "cell_type": "code",
   "execution_count": 48,
   "id": "20876995",
   "metadata": {},
   "outputs": [
    {
     "name": "stdout",
     "output_type": "stream",
     "text": [
      "2. Stepped array:\n",
      "[0.1 0.3 0.5 0.7 0.9]\n"
     ]
    }
   ],
   "source": [
    "array_step = np.arange(0.1, 1.0, 0.2)\n",
    "print(\"2. Stepped array:\")\n",
    "print(array_step)\n"
   ]
  },
  {
   "cell_type": "code",
   "execution_count": 49,
   "id": "b31cc468",
   "metadata": {},
   "outputs": [
    {
     "name": "stdout",
     "output_type": "stream",
     "text": [
      "3. Reshaped array:\n",
      "[[0.1 0.3 0.5]\n",
      " [0.7 0.9 1.1]\n",
      " [1.3 1.5 1.7]]\n"
     ]
    }
   ],
   "source": [
    "array_reshaped = np.arange(0.1, 1.8, 0.2).reshape(3, 3)\n",
    "print(\"3. Reshaped array:\")\n",
    "print(array_reshaped)\n"
   ]
  },
  {
   "cell_type": "code",
   "execution_count": 50,
   "id": "27bf55b0",
   "metadata": {},
   "outputs": [
    {
     "name": "stdout",
     "output_type": "stream",
     "text": [
      "Original dataset:\n",
      "[[ 1  2  3  4  5  6]\n",
      " [ 7  8  9 10 11 12]\n",
      " [13 14 15 16 17 18]\n",
      " [19 20 21 22 23 24]\n",
      " [25 26 27 28 29 30]\n",
      " [31 32 33 34 35 36]]\n"
     ]
    }
   ],
   "source": [
    "dataset = np.arange(1, 37).reshape(6, 6)\n",
    "print(\"Original dataset:\")\n",
    "print(dataset)\n"
   ]
  },
  {
   "cell_type": "code",
   "execution_count": 51,
   "id": "fd32b53f",
   "metadata": {},
   "outputs": [
    {
     "name": "stdout",
     "output_type": "stream",
     "text": [
      "1. Slice [[8,9,10],[14,15,16]]:\n",
      "[[ 8  9 10]\n",
      " [14 15 16]]\n"
     ]
    }
   ],
   "source": [
    "slice1 = dataset[1:3, 1:4]\n",
    "print(\"1. Slice [[8,9,10],[14,15,16]]:\")\n",
    "print(slice1)\n"
   ]
  },
  {
   "cell_type": "code",
   "execution_count": 52,
   "id": "936f999f",
   "metadata": {},
   "outputs": [
    {
     "name": "stdout",
     "output_type": "stream",
     "text": [
      "2. Column slice [2,8,14,20,26,32]:\n",
      "[ 2  8 14 20 26 32]\n"
     ]
    }
   ],
   "source": [
    "col_slice = dataset[:, 1]\n",
    "print(\"2. Column slice [2,8,14,20,26,32]:\")\n",
    "print(col_slice)\n"
   ]
  },
  {
   "cell_type": "code",
   "execution_count": 53,
   "id": "cb65daf4",
   "metadata": {},
   "outputs": [
    {
     "name": "stdout",
     "output_type": "stream",
     "text": [
      "3. Row slice [31,32,33,34,35,36]:\n",
      "[31 32 33 34 35 36]\n"
     ]
    }
   ],
   "source": [
    "row_slice = dataset[-1, :]\n",
    "print(\"3. Row slice [31,32,33,34,35,36]:\")\n",
    "print(row_slice)\n"
   ]
  },
  {
   "cell_type": "code",
   "execution_count": 54,
   "id": "b080cb4b",
   "metadata": {},
   "outputs": [
    {
     "name": "stdout",
     "output_type": "stream",
     "text": [
      "4. Three rows:\n",
      "[[ 7  8  9 10 11 12]\n",
      " [13 14 15 16 17 18]\n",
      " [19 20 21 22 23 24]]\n"
     ]
    }
   ],
   "source": [
    "three_rows = dataset[1:4, :]\n",
    "print(\"4. Three rows:\")\n",
    "print(three_rows)\n"
   ]
  },
  {
   "cell_type": "code",
   "execution_count": 55,
   "id": "475f6379",
   "metadata": {},
   "outputs": [
    {
     "name": "stdout",
     "output_type": "stream",
     "text": [
      "Original dataset:\n",
      "[[ 1  2  3  4  5  6  7]\n",
      " [ 8  9 10 11 12 13 14]\n",
      " [15 16 17 18 19 20 21]\n",
      " [22 23 24 25 26 27 28]\n",
      " [29 30 31 32 33 34 35]\n",
      " [36 37 38 39 40 41 42]\n",
      " [43 44 45 46 47 48 49]]\n"
     ]
    }
   ],
   "source": [
    "dataset = np.arange(1, 50).reshape(7, 7)\n",
    "print(\"Original dataset:\")\n",
    "print(dataset)\n"
   ]
  },
  {
   "cell_type": "code",
   "execution_count": 56,
   "id": "005ce3fb",
   "metadata": {},
   "outputs": [
    {
     "name": "stdout",
     "output_type": "stream",
     "text": [
      "1. Dataset + 50:\n",
      "[[51 52 53 54 55 56 57]\n",
      " [58 59 60 61 62 63 64]\n",
      " [65 66 67 68 69 70 71]\n",
      " [72 73 74 75 76 77 78]\n",
      " [79 80 81 82 83 84 85]\n",
      " [86 87 88 89 90 91 92]\n",
      " [93 94 95 96 97 98 99]]\n"
     ]
    }
   ],
   "source": [
    "dataset_added = dataset + 50\n",
    "print(\"1. Dataset + 50:\")\n",
    "print(dataset_added)\n"
   ]
  },
  {
   "cell_type": "code",
   "execution_count": 57,
   "id": "3b797d03",
   "metadata": {},
   "outputs": [
    {
     "name": "stdout",
     "output_type": "stream",
     "text": [
      "2. Total sum:\n",
      "1225\n"
     ]
    }
   ],
   "source": [
    "total_sum = np.sum(dataset)\n",
    "print(\"2. Total sum:\")\n",
    "print(total_sum)"
   ]
  },
  {
   "cell_type": "code",
   "execution_count": 58,
   "id": "896729d5",
   "metadata": {},
   "outputs": [
    {
     "name": "stdout",
     "output_type": "stream",
     "text": [
      "3. Sum of odd numbers:\n",
      "625\n"
     ]
    }
   ],
   "source": [
    "odd_sum = np.sum(dataset[dataset % 2 != 0])\n",
    "print(\"3. Sum of odd numbers:\")\n",
    "print(odd_sum)"
   ]
  },
  {
   "cell_type": "code",
   "execution_count": 59,
   "id": "13838017",
   "metadata": {},
   "outputs": [
    {
     "name": "stdout",
     "output_type": "stream",
     "text": [
      "4. Standard deviation:\n",
      "14.142135623730951\n"
     ]
    }
   ],
   "source": [
    "std_dev = np.std(dataset)\n",
    "print(\"4. Standard deviation:\")\n",
    "print(std_dev)"
   ]
  },
  {
   "cell_type": "code",
   "execution_count": 60,
   "id": "2ec6ecca",
   "metadata": {},
   "outputs": [
    {
     "name": "stdout",
     "output_type": "stream",
     "text": [
      "5. Row sums:\n",
      "[ 28  77 126 175 224 273 322]\n"
     ]
    }
   ],
   "source": [
    "row_sums = np.sum(dataset, axis=1)\n",
    "print(\"5. Row sums:\")\n",
    "print(row_sums)\n"
   ]
  },
  {
   "cell_type": "code",
   "execution_count": 61,
   "id": "ae20646a",
   "metadata": {},
   "outputs": [
    {
     "name": "stdout",
     "output_type": "stream",
     "text": [
      "6. Column sums:\n",
      "[154 161 168 175 182 189 196]\n"
     ]
    }
   ],
   "source": [
    "col_sums = np.sum(dataset, axis=0)\n",
    "print(\"6. Column sums:\")\n",
    "print(col_sums)"
   ]
  },
  {
   "cell_type": "code",
   "execution_count": 62,
   "id": "756a8653",
   "metadata": {},
   "outputs": [
    {
     "name": "stdout",
     "output_type": "stream",
     "text": [
      "Extra 1: Saving and loading matrix\n",
      "Matrix loaded from file:\n",
      "[[4.04380506e-01 5.38396280e-01 1.29539492e-03 6.24191426e-01\n",
      "  1.61768530e-01 4.04326118e-01 4.69446503e-01 7.73942018e-01\n",
      "  3.59871360e-01 9.04637269e-01 4.12430788e-01 7.90810142e-01\n",
      "  4.91804277e-01 1.18678580e-01 1.74561870e-01]\n",
      " [2.55967950e-01 3.10104252e-01 2.70434858e-02 7.93493476e-01\n",
      "  5.93351941e-01 8.39974090e-01 9.25355661e-01 1.25385303e-01\n",
      "  9.45584929e-01 7.86690875e-02 6.87938067e-01 5.62045589e-01\n",
      "  6.24125751e-01 4.11795309e-01 3.55004777e-01]\n",
      " [1.27335438e-01 8.07517382e-01 1.21415932e-01 6.23987372e-01\n",
      "  9.65830430e-01 3.26277292e-01 2.96063756e-01 4.24652299e-01\n",
      "  9.13725715e-01 1.81786379e-01 2.63814139e-01 1.95857742e-02\n",
      "  7.56957165e-01 9.22394904e-01 9.06673886e-01]\n",
      " [2.14975434e-01 8.06406063e-01 2.70237014e-01 7.40965241e-01\n",
      "  3.51015256e-02 7.27471964e-01 6.09777921e-01 8.86888051e-01\n",
      "  8.05180798e-01 1.86204055e-01 3.76377707e-01 8.04764949e-03\n",
      "  9.29634439e-01 5.19148189e-01 2.33948916e-01]\n",
      " [9.75483987e-02 9.03780708e-01 1.28583678e-01 5.38806169e-01\n",
      "  5.20557780e-01 6.44124849e-02 4.46123838e-01 2.45871946e-01\n",
      "  6.83653078e-01 4.57387120e-01 1.95413148e-01 8.25739638e-01\n",
      "  4.16423499e-01 7.43233067e-01 4.02644846e-01]\n",
      " [9.40244559e-01 1.59540083e-01 5.47436656e-01 7.76829424e-01\n",
      "  5.36719670e-01 7.64726772e-01 1.31874863e-02 7.53935295e-01\n",
      "  3.97445275e-01 2.22743359e-01 6.93393234e-01 5.57826317e-01\n",
      "  7.46456390e-01 9.07121190e-01 1.27280324e-01]\n",
      " [7.03541782e-01 3.49273048e-01 1.35476794e-01 3.18505305e-01\n",
      "  3.66224063e-01 3.79382427e-01 2.16223053e-02 7.00711850e-01\n",
      "  9.09080236e-01 5.00859569e-01 9.69520446e-02 2.12118490e-01\n",
      "  6.73955332e-01 2.60040337e-01 8.36507959e-01]\n",
      " [6.17401974e-01 8.53414871e-01 3.64341604e-01 5.68292219e-01\n",
      "  9.72271670e-01 2.64389694e-01 4.43259063e-01 4.89552406e-01\n",
      "  1.34816416e-01 7.75160445e-01 8.86897724e-01 4.02113247e-01\n",
      "  7.90860831e-01 7.54260840e-01 3.43681192e-01]\n",
      " [1.43832463e-01 1.67470925e-01 4.91787050e-01 3.53460720e-01\n",
      "  4.82694538e-01 2.40072219e-01 3.86399588e-01 4.33158635e-01\n",
      "  5.82443235e-01 9.01233489e-01 8.53523621e-01 9.17833355e-01\n",
      "  5.82762951e-01 8.89334193e-01 7.88702494e-01]\n",
      " [6.55034272e-01 5.36586101e-01 3.29483854e-02 5.14478833e-01\n",
      "  9.27982378e-01 3.31706637e-01 7.73106020e-01 9.24637049e-01\n",
      "  6.33517866e-01 6.60201685e-01 9.16152935e-02 7.42854442e-01\n",
      "  7.04830310e-01 3.63139420e-01 2.72036462e-01]\n",
      " [9.25062624e-01 7.11923138e-01 8.57825770e-01 4.67630508e-01\n",
      "  4.64008767e-02 9.65774560e-02 6.01820035e-01 1.51664026e-01\n",
      "  7.20146061e-01 5.60438577e-01 2.32042484e-01 3.18812126e-01\n",
      "  4.32624492e-01 3.34813072e-01 8.82449336e-01]\n",
      " [2.07234478e-01 1.60528202e-01 1.81851224e-01 3.16529376e-01\n",
      "  7.91362466e-01 3.04323309e-01 8.01434982e-01 4.51357558e-01\n",
      "  9.56640944e-01 2.20279364e-01 5.55108817e-01 1.19029473e-02\n",
      "  5.21339799e-01 8.75050421e-01 6.75654707e-01]\n",
      " [2.15248071e-01 5.19185526e-01 8.89439302e-01 3.04966400e-02\n",
      "  7.22461349e-01 5.22311682e-01 6.83538416e-01 6.71740346e-01\n",
      "  7.70020043e-01 3.68027489e-01 1.50951624e-01 8.94157779e-01\n",
      "  6.86434452e-01 3.85468537e-01 6.36598952e-01]\n",
      " [7.93670244e-01 7.63415287e-01 2.45068208e-01 9.55050454e-01\n",
      "  6.52326654e-01 1.86908924e-01 4.96866174e-01 3.42923948e-01\n",
      "  9.61463007e-01 5.77154744e-01 5.17323056e-01 4.20744396e-01\n",
      "  2.59176071e-01 1.93803987e-01 9.29458052e-04]\n",
      " [5.84188933e-01 8.12938273e-01 9.53650313e-01 7.35024766e-01\n",
      "  2.32490292e-01 8.00391144e-01 6.16627265e-01 4.57191589e-01\n",
      "  5.31795398e-01 8.98820766e-01 7.06097351e-01 1.85148836e-01\n",
      "  9.87971443e-01 1.86521806e-02 4.59371163e-01]]\n"
     ]
    }
   ],
   "source": [
    "print(\"Extra 1: Saving and loading matrix\")\n",
    "matrix_to_save = np.random.rand(15, 15)\n",
    "np.savetxt('matrix.txt', matrix_to_save)\n",
    "matrix_loaded = np.loadtxt('matrix.txt')\n",
    "print(\"Matrix loaded from file:\")\n",
    "print(matrix_loaded)"
   ]
  },
  {
   "cell_type": "code",
   "execution_count": 63,
   "id": "764acba5",
   "metadata": {},
   "outputs": [
    {
     "name": "stdout",
     "output_type": "stream",
     "text": [
      "Extra 2: Masked arrays\n",
      "Matrix with faults replaced:\n",
      "[[17 13  5 44 16 45 18 35 18 39]\n",
      " [ 9 19 20 36  3 43 34 29 25  0]\n",
      " [28 49 31 34  0 50 29 34 47 27]\n",
      " [16 36 25  5  7 42  0 45 19 21]\n",
      " [ 3 46  1 28 46  7  3 15 28 23]\n",
      " [19 28 49 24 25  6 14 41 44 19]\n",
      " [18 34 18 40  3 21  0  5 25  0]\n",
      " [ 5  0  0  0 10  0 34  0 32 17]\n",
      " [16 49  9 27  0  6  0 45 24 14]\n",
      " [27 48 25 20 20  8  0 10 22 39]]\n"
     ]
    }
   ],
   "source": [
    "print(\"Extra 2: Masked arrays\")\n",
    "matrix = np.random.randint(0, 51, (10, 10))\n",
    "for _ in range(10):\n",
    "    i, j = np.random.randint(0, 10, 2)\n",
    "    matrix[i, j] = -100\n",
    "masked_matrix = np.ma.masked_where(matrix == -100, matrix)\n",
    "filled_matrix = masked_matrix.filled(0)\n",
    "print(\"Matrix with faults replaced:\")\n",
    "print(filled_matrix)"
   ]
  },
  {
   "cell_type": "code",
   "execution_count": 64,
   "id": "cd5c7eb3",
   "metadata": {},
   "outputs": [
    {
     "name": "stdout",
     "output_type": "stream",
     "text": [
      "Extra 3: argsort example\n",
      "Sorted by years:\n",
      "Years: [2010 2011 2013 2013 2014 2015 2019 2019 2020 2020]\n",
      "Prices: [ 7127 32964 31115 39068 23644  4251 48541  9721 55431 21919]\n"
     ]
    }
   ],
   "source": [
    "print(\"Extra 3: argsort example\")\n",
    "years = np.random.randint(2010, 2021, 10)\n",
    "prices = np.random.randint(2000, 60001, 10)\n",
    "sorted_indices = np.argsort(years)\n",
    "sorted_years = years[sorted_indices]\n",
    "sorted_prices = prices[sorted_indices]\n",
    "print(\"Sorted by years:\")\n",
    "print(\"Years:\", sorted_years)\n",
    "print(\"Prices:\", sorted_prices)"
   ]
  },
  {
   "cell_type": "code",
   "execution_count": 65,
   "id": "60c56fb2",
   "metadata": {},
   "outputs": [
    {
     "name": "stdout",
     "output_type": "stream",
     "text": [
      "Extra 4: Exploring NumPy features\n",
      "np.repeat example: [1 1 1 2 2 2 3 3 3]\n",
      "np.ravel example: [1 2 3 4]\n",
      "np.transpose example: [[1 3]\n",
      " [2 4]]\n",
      "np.round example: [[0.32 0.66 0.53]\n",
      " [0.49 0.02 0.86]\n",
      " [0.21 0.98 0.9 ]]\n"
     ]
    }
   ],
   "source": [
    "print(\"Extra 4: Exploring NumPy features\")\n",
    "arr = np.array([1, 2, 3])\n",
    "print(\"np.repeat example:\", np.repeat(arr, 3))\n",
    "matrix = np.array([[1, 2], [3, 4]])\n",
    "print(\"np.ravel example:\", np.ravel(matrix))\n",
    "print(\"np.transpose example:\", np.transpose(matrix))\n",
    "print(\"np.round example:\", np.round(np.random.rand(3,3), 2))"
   ]
  },
  {
   "cell_type": "code",
   "execution_count": null,
   "id": "0f9f0103",
   "metadata": {},
   "outputs": [],
   "source": []
  }
 ],
 "metadata": {
  "kernelspec": {
   "display_name": "Python 3",
   "language": "python",
   "name": "python3"
  },
  "language_info": {
   "codemirror_mode": {
    "name": "ipython",
    "version": 3
   },
   "file_extension": ".py",
   "mimetype": "text/x-python",
   "name": "python",
   "nbconvert_exporter": "python",
   "pygments_lexer": "ipython3",
   "version": "3.10.10"
  }
 },
 "nbformat": 4,
 "nbformat_minor": 5
}
