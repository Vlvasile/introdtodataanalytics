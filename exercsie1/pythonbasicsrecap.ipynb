{
 "cells": [
  {
   "cell_type": "code",
   "execution_count": 1,
   "id": "80c520ad",
   "metadata": {},
   "outputs": [
    {
     "data": {
      "text/plain": [
       "32"
      ]
     },
     "execution_count": 1,
     "metadata": {},
     "output_type": "execute_result"
    }
   ],
   "source": [
    "# let's try a variable\n",
    "age = 32\n",
    "age"
   ]
  },
  {
   "cell_type": "code",
   "execution_count": 2,
   "id": "99dbce60",
   "metadata": {},
   "outputs": [
    {
     "data": {
      "text/plain": [
       "'John'"
      ]
     },
     "execution_count": 2,
     "metadata": {},
     "output_type": "execute_result"
    }
   ],
   "source": [
    "name = \"John\"\n",
    "name"
   ]
  },
  {
   "cell_type": "code",
   "execution_count": 3,
   "id": "d6310564",
   "metadata": {},
   "outputs": [
    {
     "data": {
      "text/plain": [
       "False"
      ]
     },
     "execution_count": 3,
     "metadata": {},
     "output_type": "execute_result"
    }
   ],
   "source": [
    "raining = False\n",
    "raining"
   ]
  },
  {
   "cell_type": "code",
   "execution_count": 4,
   "id": "5dd21a28",
   "metadata": {},
   "outputs": [
    {
     "data": {
      "text/plain": [
       "1.24"
      ]
     },
     "execution_count": 4,
     "metadata": {},
     "output_type": "execute_result"
    }
   ],
   "source": [
    "tax = 1.24\n",
    "tax"
   ]
  },
  {
   "cell_type": "code",
   "execution_count": 5,
   "id": "8bb71408",
   "metadata": {},
   "outputs": [
    {
     "data": {
      "text/plain": [
       "2230.7599999999998"
      ]
     },
     "execution_count": 5,
     "metadata": {},
     "output_type": "execute_result"
    }
   ],
   "source": [
    "price = 1799 * tax\n",
    "price"
   ]
  },
  {
   "cell_type": "code",
   "execution_count": 6,
   "id": "0e920cba",
   "metadata": {},
   "outputs": [
    {
     "data": {
      "text/plain": [
       "9"
      ]
     },
     "execution_count": 6,
     "metadata": {},
     "output_type": "execute_result"
    }
   ],
   "source": [
    "apples = 66\n",
    "people = 7\n",
    "\n",
    "# one / => division with decimals\n",
    "# two // = division without decimals\n",
    "apples_per_people = apples // people\n",
    "apples_per_people"
   ]
  },
  {
   "cell_type": "code",
   "execution_count": 7,
   "id": "555c730e",
   "metadata": {},
   "outputs": [
    {
     "data": {
      "text/plain": [
       "3"
      ]
     },
     "execution_count": 7,
     "metadata": {},
     "output_type": "execute_result"
    }
   ],
   "source": [
    "# how many apples were left over\n",
    "leftover = apples % people\n",
    "leftover"
   ]
  },
  {
   "cell_type": "code",
   "execution_count": 8,
   "id": "3a4529c0",
   "metadata": {},
   "outputs": [
    {
     "data": {
      "text/plain": [
       "2800"
      ]
     },
     "execution_count": 8,
     "metadata": {},
     "output_type": "execute_result"
    }
   ],
   "source": [
    "# += is a shorthand for adding, also works with multiplication and substracting\n",
    "salary = 2500\n",
    "salary += 300\n",
    "salary"
   ]
  },
  {
   "cell_type": "code",
   "execution_count": 9,
   "id": "41dcf5c3",
   "metadata": {},
   "outputs": [
    {
     "data": {
      "text/plain": [
       "'Current year is 2023, previous year was 2022'"
      ]
     },
     "execution_count": 9,
     "metadata": {},
     "output_type": "execute_result"
    }
   ],
   "source": [
    "# variables in a string => f-string\n",
    "year = 2023\n",
    "text = f\"Current year is {year}, previous year was {year - 1}\"\n",
    "text"
   ]
  },
  {
   "cell_type": "code",
   "execution_count": 10,
   "id": "14d3039b",
   "metadata": {},
   "outputs": [
    {
     "name": "stdout",
     "output_type": "stream",
     "text": [
      "Something else.\n"
     ]
    }
   ],
   "source": [
    "number = -15\n",
    "\n",
    "if number > 30:\n",
    "    print(\"Big number!\")\n",
    "elif number == 0:\n",
    "    print(\"Zero!\")\n",
    "else:\n",
    "    print(\"Something else.\")"
   ]
  },
  {
   "cell_type": "code",
   "execution_count": 12,
   "id": "b1f9dce3",
   "metadata": {},
   "outputs": [
    {
     "name": "stdout",
     "output_type": "stream",
     "text": [
      "helloooooo there!: hello detected!\n"
     ]
    }
   ],
   "source": [
    "text = \"helloooooo there!\"\n",
    "\n",
    "if \"hello\" in text:\n",
    "    # print(f\"{text} : hello detected!\")\n",
    "    print(text + \": hello detected!\")\n",
    "else:\n",
    "    print(\"Nevermind...\")"
   ]
  },
  {
   "cell_type": "code",
   "execution_count": 13,
   "id": "442be458",
   "metadata": {},
   "outputs": [
    {
     "data": {
      "text/plain": [
       "[-4, 0, -3, -1, 5, 7, 4, 2, -8]"
      ]
     },
     "execution_count": 13,
     "metadata": {},
     "output_type": "execute_result"
    }
   ],
   "source": [
    "# a list of numbers, temperatures\n",
    "temperatures = [-4, 0, -3, -1, 5, 7, 4, 2, -8]\n",
    "temperatures"
   ]
  },
  {
   "cell_type": "code",
   "execution_count": 14,
   "id": "ad6d5916",
   "metadata": {},
   "outputs": [
    {
     "data": {
      "text/plain": [
       "-3"
      ]
     },
     "execution_count": 14,
     "metadata": {},
     "output_type": "execute_result"
    }
   ],
   "source": [
    "temperatures[2]"
   ]
  },
  {
   "cell_type": "code",
   "execution_count": 15,
   "id": "8b98675a",
   "metadata": {},
   "outputs": [
    {
     "data": {
      "text/plain": [
       "[-4, 0, -3, -1, 5]"
      ]
     },
     "execution_count": 15,
     "metadata": {},
     "output_type": "execute_result"
    }
   ],
   "source": [
    "# a list of numbers, temperatures\n",
    "temperatures = [-4, 0, -3, -1, 5, 7, 4, 2, -8]\n",
    "\n",
    "# temperatures[1:4]\n",
    "# temperatures[1:]\n",
    "temperatures[:5]"
   ]
  },
  {
   "cell_type": "code",
   "execution_count": 16,
   "id": "764a57ca",
   "metadata": {},
   "outputs": [
    {
     "data": {
      "text/plain": [
       "'Washing machine'"
      ]
     },
     "execution_count": 16,
     "metadata": {},
     "output_type": "execute_result"
    }
   ],
   "source": [
    "# a dictionary usually contains some real world object and its details, like a product\n",
    "product = {\n",
    "    \"name\": \"Washing machine\",\n",
    "    \"price\": 399,\n",
    "    \"rating\": 5,\n",
    "    \"brand\": \"Swoosh-Soowsh Ltd\"\n",
    "}\n",
    "\n",
    "product['name']"
   ]
  },
  {
   "cell_type": "code",
   "execution_count": 17,
   "id": "e8e9a4bc",
   "metadata": {},
   "outputs": [
    {
     "name": "stdout",
     "output_type": "stream",
     "text": [
      "2000\n",
      "2001\n",
      "2002\n",
      "2003\n",
      "2004\n",
      "2005\n",
      "2006\n",
      "2007\n",
      "2008\n",
      "2009\n",
      "2010\n",
      "2011\n",
      "2012\n",
      "2013\n",
      "2014\n",
      "2015\n",
      "2016\n",
      "2017\n",
      "2018\n",
      "2019\n",
      "2020\n",
      "2021\n",
      "2022\n",
      "2023\n"
     ]
    }
   ],
   "source": [
    "# loops, for loop, numeric\n",
    "for x in range(2000, 2024):\n",
    "    print(x)"
   ]
  },
  {
   "cell_type": "code",
   "execution_count": 18,
   "id": "dc291a89",
   "metadata": {},
   "outputs": [
    {
     "name": "stdout",
     "output_type": "stream",
     "text": [
      "3\n",
      "6\n",
      "7\n",
      "5\n",
      "9\n",
      "2\n"
     ]
    }
   ],
   "source": [
    "numbers = [3,6,7,5,9,2]\n",
    "\n",
    "# looping through a collection (list)\n",
    "for n in numbers:\n",
    "    print(n)"
   ]
  },
  {
   "cell_type": "code",
   "execution_count": 19,
   "id": "198f6375",
   "metadata": {},
   "outputs": [
    {
     "name": "stdout",
     "output_type": "stream",
     "text": [
      "0\n",
      "Number is divisible by 5!\n",
      "5\n",
      "Number is divisible by 5!\n",
      "10\n",
      "Number is divisible by 5!\n",
      "15\n",
      "Number is divisible by 5!\n",
      "20\n",
      "Number is divisible by 5!\n",
      "25\n",
      "Number is divisible by 5!\n",
      "30\n",
      "Number is divisible by 5!\n",
      "35\n",
      "Number is divisible by 5!\n",
      "40\n",
      "Number is divisible by 5!\n",
      "45\n",
      "Number is divisible by 5!\n"
     ]
    }
   ],
   "source": [
    "# this is usually the most complex code structure\n",
    "# you need in data analytics\n",
    "for x in range(50):\n",
    "    if x % 5 == 0:\n",
    "        print(x)\n",
    "        print(\"Number is divisible by 5!\")"
   ]
  },
  {
   "cell_type": "code",
   "execution_count": 20,
   "id": "dcd6a464",
   "metadata": {},
   "outputs": [
    {
     "name": "stdout",
     "output_type": "stream",
     "text": [
      "Coffee machine\n",
      "Dishwasher\n",
      "Freezer\n"
     ]
    }
   ],
   "source": [
    "# most real-life data are in lists of dictionaries\n",
    "products = [\n",
    "    {\"name\": \"Coffee machine\", \"price\": 99},\n",
    "    {\"name\": \"Dishwasher\", \"price\": 299},\n",
    "    {\"name\": \"Freezer\", \"price\": 199}\n",
    "]\n",
    "\n",
    "# looping through a list of dictionaries\n",
    "for p in products:\n",
    "    print(p['name'])"
   ]
  },
  {
   "cell_type": "code",
   "execution_count": 21,
   "id": "d4c97888",
   "metadata": {},
   "outputs": [
    {
     "data": {
      "text/plain": [
       "[0, 1, 2, 3, 4, 5, 6, 7, 8, 9]"
      ]
     },
     "execution_count": 21,
     "metadata": {},
     "output_type": "execute_result"
    }
   ],
   "source": [
    "# if you need to build data with loops/lists, \n",
    "# this is common in Python\n",
    "values = []\n",
    "\n",
    "for x in range(10):\n",
    "    values.append(x)\n",
    "    \n",
    "values"
   ]
  },
  {
   "cell_type": "code",
   "execution_count": 22,
   "id": "de291581",
   "metadata": {},
   "outputs": [],
   "source": [
    "# define our own functions\n",
    "# these are often needed with the pandas-module\n",
    "def triple_value(number):\n",
    "    result = number * 3\n",
    "    return result"
   ]
  },
  {
   "cell_type": "code",
   "execution_count": 23,
   "id": "5316bae0",
   "metadata": {},
   "outputs": [
    {
     "data": {
      "text/plain": [
       "45"
      ]
     },
     "execution_count": 23,
     "metadata": {},
     "output_type": "execute_result"
    }
   ],
   "source": [
    "triple_value(15) "
   ]
  }
 ],
 "metadata": {
  "kernelspec": {
   "display_name": "Python 3",
   "language": "python",
   "name": "python3"
  },
  "language_info": {
   "codemirror_mode": {
    "name": "ipython",
    "version": 3
   },
   "file_extension": ".py",
   "mimetype": "text/x-python",
   "name": "python",
   "nbconvert_exporter": "python",
   "pygments_lexer": "ipython3",
   "version": "3.10.10"
  }
 },
 "nbformat": 4,
 "nbformat_minor": 5
}
