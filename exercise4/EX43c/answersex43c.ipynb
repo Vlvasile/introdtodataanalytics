{
 "cells": [
  {
   "cell_type": "code",
   "execution_count": null,
   "id": "6cce780c",
   "metadata": {},
   "outputs": [],
   "source": [
    "# . Best Plots for Analysis\n",
    "# Most useful:\n",
    "\n",
    "# Heatmaps (show energy trends by quarter/year clearly).\n",
    "\n",
    "# Normalized pair/regression plots (compare all energy types fairly).\n",
    "\n",
    "# Less useful: Basic pair plots (too messy without normalization).\n",
    "\n",
    "\n",
    "#  Energy Trends (2007–2020)\n",
    "# Coal: Decreasing (used less over time).\n",
    "\n",
    "# Nuclear: Stable (no big changes).\n",
    "\n",
    "# Wind: Growing fast (more wind farms built).\n",
    "\n",
    "# Hydro: Slight growth (but depends on rain).\n",
    "\n",
    "\n",
    "\n",
    "# extra:\n",
    "    \n",
    "#     Seasonal Patterns\n",
    "# Wind: Stronger in Q1-Q2 (windier seasons).\n",
    "\n",
    "# Hydro: Peaks in Q2-Q3 (snowmelt/rain).\n",
    "\n",
    "# How to Improve Analysis\n",
    "# Add solar energy data (Texas uses lots of solar!).\n",
    "\n",
    "# Compare with weather data (droughts affect hydro).\n",
    "\n",
    "# Study policy changes (why coal dropped?)."
   ]
  }
 ],
 "metadata": {
  "language_info": {
   "name": "python"
  }
 },
 "nbformat": 4,
 "nbformat_minor": 5
}
