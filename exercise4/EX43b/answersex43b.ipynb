{
 "cells": [
  {
   "cell_type": "code",
   "execution_count": null,
   "id": "1f5bddaf",
   "metadata": {},
   "outputs": [],
   "source": [
    "# 1. What Makes a Hurricane Strong?\n",
    "# Two key factors:\n",
    "\n",
    "# High wind speed (main factor for category).\n",
    "\n",
    "# Low pressure (stronger hurricanes have lower pressure).\n",
    "\n",
    "\n",
    "# 2. Most Active Hurricane Season\n",
    "# August to October (peaks in September) – seen in heatmaps/regression plots.\n",
    "\n",
    "# 3. Most Useful Seaborn Plots\n",
    "# Heatmaps (show wind/pressure by month/year).\n",
    "\n",
    "# Box plots (compare categories clearly).\n",
    "\n",
    "# Regression plots (track trends over time).\n",
    "\n",
    "# Less useful: Basic pair plots (too messy with many variables).\n",
    "\n",
    "# Correlations vs. Plots\n",
    "# Both useful!\n",
    "\n",
    "# Correlations confirm wind ↔ pressure link.\n",
    "\n",
    "# Plots show when/where storms happen.\n",
    "\n",
    "#         Extra Answers\n",
    "\n",
    "# Strongest Hurricanes in the Dataset\n",
    "# Likely Katrina (2005), Irma (2017), Maria (2017) – famous Cat 5 storms.\n",
    "\n",
    "# Timing of Strongest Hurricanes\n",
    "# Most intense late summer/early fall (warmest ocean temps → more energy).\n",
    "\n",
    "# Lower Quantiles (Weaker Storms)\n",
    "# More tropical storms (Cat 0-1).\n",
    "\n",
    "# Less clear patterns in wind/pressure.\n",
    "\n",
    "# How to Improve Analysis\n",
    "# Add ocean temperature data (why storms form when/where they do).\n",
    "\n",
    "# Map storm paths (do certain areas get hit more?).\n",
    "\n",
    "\n"
   ]
  }
 ],
 "metadata": {
  "language_info": {
   "name": "python"
  }
 },
 "nbformat": 4,
 "nbformat_minor": 5
}
