{
 "cells": [
  {
   "cell_type": "code",
   "execution_count": null,
   "id": "7d04f51b",
   "metadata": {},
   "outputs": [],
   "source": [
    "# 1:\n",
    "#     Key factors:\n",
    "\n",
    "# More videos → More views/subscribers (but quality matters too).\n",
    "\n",
    "# Older channels (started before 2015) tend to have more subscribers.\n",
    "\n",
    "# High view-to-subscriber ratio (videos go viral).\n",
    "\n",
    "# 2:\n",
    "#     Start early (older channels have advantage).\n",
    "\n",
    "# Upload consistently (more videos = more growth).\n",
    "\n",
    "# Aim for viral hits (high views/subscriber ratio).\n",
    "\n",
    "# Pick trending categories (Music, Entertainment, Gaming).\n",
    "# extra\n",
    "\n",
    "# 1:Music: Highest subscribers, low video count (few viral hits).\n",
    "\n",
    "# Gaming: Medium subscribers, high video count (consistent uploads).\n",
    "\n",
    "# Education: Lower subscribers but steady growth.\n",
    "\n",
    "# 2:\n",
    "#     Add video length data (shorts vs. long videos).\n",
    "\n",
    "# Study upload frequency (daily vs. weekly).\n",
    "\n",
    "# Include social media promotion (Twitter/Instagram impact).\n",
    "    "
   ]
  }
 ],
 "metadata": {
  "language_info": {
   "name": "python"
  }
 },
 "nbformat": 4,
 "nbformat_minor": 5
}
