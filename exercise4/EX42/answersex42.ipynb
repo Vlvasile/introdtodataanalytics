{
 "cells": [
  {
   "cell_type": "code",
   "execution_count": null,
   "id": "2090c51b",
   "metadata": {},
   "outputs": [],
   "source": [
    "# 1:\n",
    "#     North Dakota and South Dakota show increased honey production over time (seen in regression plots).\n",
    "\n",
    "# California has high production but less growth compared to the Dakotas.\n",
    "\n",
    "# 2:\n",
    "#     Production dropped overall (especially after ~2000).\n",
    "\n",
    "# Possible reasons (from Google):\n",
    "\n",
    "# Bee colony collapse disorder (kills bees).\n",
    "\n",
    "# Less wildflowers (due to farming/land use changes).\n",
    "\n",
    "# Climate change (affects flowers & bees).\n",
    "\n",
    "# 3:\n",
    "#      Most Useful Seaborn Plots\n",
    "# Useful plots:\n",
    "\n",
    "# Regression plots (show trends over time).\n",
    "\n",
    "# Box plots (compare states/decades easily).\n",
    "\n",
    "# Heatmaps (see strong/weak number relationships).\n",
    "\n",
    "# 4:\n",
    "#      Correlations vs. Plots\n",
    "# Both are useful!\n",
    "\n",
    "# Correlations give exact numbers (e.g., \"price + production = 0.8\").\n",
    "\n",
    "# Plots help see patterns (e.g., \"California’s production dropped after 2010\").\n",
    "\n",
    "# 5:\n",
    "#     How Hue Changes Regression Plots\n",
    "# Without hue: Shows general trend for all states.\n",
    "\n",
    "# With hue: Reveals differences between states (e.g., some states grow while others decline)."
   ]
  }
 ],
 "metadata": {
  "language_info": {
   "name": "python"
  }
 },
 "nbformat": 4,
 "nbformat_minor": 5
}
