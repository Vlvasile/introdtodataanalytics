{
 "cells": [
  {
   "cell_type": "code",
   "execution_count": null,
   "id": "f9b1f904",
   "metadata": {},
   "outputs": [],
   "source": [
    "# 1:\n",
    "#     Major Unemployment Periods\n",
    "# 1970s & 2008-2010 (seen in heatmaps/joint plots).\n",
    "\n",
    "# Google says:\n",
    "\n",
    "# 1970s: Oil crisis + inflation.\n",
    "\n",
    "# 2008: Financial crisis (\"Great Recession\").\n",
    "\n",
    "\n",
    "# 2:\n",
    "#      Most Useful Seaborn Plots\n",
    "# Heatmaps (best for spotting yearly/monthly patterns).\n",
    "\n",
    "# Joint plots (show trends over time).\n",
    "\n",
    "# Less useful: Basic correlation heatmaps (too obvious—just shows year vs. value).\n",
    "\n",
    "# 3:\n",
    "#      Correlations vs. Plots\n",
    "# Plots win here! Correlations just confirm time affects unemployment (duh). Heatmaps/joint plots reveal when and how much.\n",
    "\n",
    "# 4:\n",
    "#     Extra Ideas\n",
    "# Add GDP data to see if it links to unemployment.\n",
    "\n",
    "# Compare presidential terms (do policies affect rates?).\n",
    "\n",
    "\n"
   ]
  }
 ],
 "metadata": {
  "language_info": {
   "name": "python"
  }
 },
 "nbformat": 4,
 "nbformat_minor": 5
}
