{
 "cells": [
  {
   "cell_type": "code",
   "execution_count": 4,
   "id": "c9818d61",
   "metadata": {},
   "outputs": [],
   "source": [
    "import pandas as pd\n",
    "import numpy as np"
   ]
  },
  {
   "cell_type": "code",
   "execution_count": 5,
   "id": "55387feb",
   "metadata": {},
   "outputs": [],
   "source": [
    "df = pd.read_csv('loan.csv')\n"
   ]
  },
  {
   "cell_type": "code",
   "execution_count": 6,
   "id": "ce5d8778",
   "metadata": {},
   "outputs": [
    {
     "data": {
      "text/html": [
       "<div>\n",
       "<style scoped>\n",
       "    .dataframe tbody tr th:only-of-type {\n",
       "        vertical-align: middle;\n",
       "    }\n",
       "\n",
       "    .dataframe tbody tr th {\n",
       "        vertical-align: top;\n",
       "    }\n",
       "\n",
       "    .dataframe thead th {\n",
       "        text-align: right;\n",
       "    }\n",
       "</style>\n",
       "<table border=\"1\" class=\"dataframe\">\n",
       "  <thead>\n",
       "    <tr style=\"text-align: right;\">\n",
       "      <th></th>\n",
       "      <th>Loan_ID</th>\n",
       "      <th>loan_status</th>\n",
       "      <th>Principal</th>\n",
       "      <th>terms</th>\n",
       "      <th>effective_date</th>\n",
       "      <th>due_date</th>\n",
       "      <th>paid_off_time</th>\n",
       "      <th>past_due_days</th>\n",
       "      <th>age</th>\n",
       "      <th>education</th>\n",
       "      <th>Gender</th>\n",
       "    </tr>\n",
       "  </thead>\n",
       "  <tbody>\n",
       "    <tr>\n",
       "      <th>0</th>\n",
       "      <td>xqd20166231</td>\n",
       "      <td>PAIDOFF</td>\n",
       "      <td>1000</td>\n",
       "      <td>30</td>\n",
       "      <td>9/8/2016</td>\n",
       "      <td>10/7/2016</td>\n",
       "      <td>9/14/2016 19:31</td>\n",
       "      <td>NaN</td>\n",
       "      <td>45</td>\n",
       "      <td>High School or Below</td>\n",
       "      <td>male</td>\n",
       "    </tr>\n",
       "    <tr>\n",
       "      <th>1</th>\n",
       "      <td>xqd20168902</td>\n",
       "      <td>PAIDOFF</td>\n",
       "      <td>1000</td>\n",
       "      <td>30</td>\n",
       "      <td>9/8/2016</td>\n",
       "      <td>10/7/2016</td>\n",
       "      <td>10/7/2016 9:00</td>\n",
       "      <td>NaN</td>\n",
       "      <td>50</td>\n",
       "      <td>Bechalor</td>\n",
       "      <td>female</td>\n",
       "    </tr>\n",
       "    <tr>\n",
       "      <th>2</th>\n",
       "      <td>xqd20160003</td>\n",
       "      <td>PAIDOFF</td>\n",
       "      <td>1000</td>\n",
       "      <td>30</td>\n",
       "      <td>9/8/2016</td>\n",
       "      <td>10/7/2016</td>\n",
       "      <td>9/25/2016 16:58</td>\n",
       "      <td>NaN</td>\n",
       "      <td>33</td>\n",
       "      <td>Bechalor</td>\n",
       "      <td>female</td>\n",
       "    </tr>\n",
       "    <tr>\n",
       "      <th>3</th>\n",
       "      <td>xqd20160004</td>\n",
       "      <td>PAIDOFF</td>\n",
       "      <td>1000</td>\n",
       "      <td>15</td>\n",
       "      <td>9/8/2016</td>\n",
       "      <td>9/22/2016</td>\n",
       "      <td>9/22/2016 20:00</td>\n",
       "      <td>NaN</td>\n",
       "      <td>27</td>\n",
       "      <td>college</td>\n",
       "      <td>male</td>\n",
       "    </tr>\n",
       "    <tr>\n",
       "      <th>4</th>\n",
       "      <td>xqd20160005</td>\n",
       "      <td>PAIDOFF</td>\n",
       "      <td>1000</td>\n",
       "      <td>30</td>\n",
       "      <td>9/9/2016</td>\n",
       "      <td>10/8/2016</td>\n",
       "      <td>9/23/2016 21:36</td>\n",
       "      <td>NaN</td>\n",
       "      <td>28</td>\n",
       "      <td>college</td>\n",
       "      <td>female</td>\n",
       "    </tr>\n",
       "  </tbody>\n",
       "</table>\n",
       "</div>"
      ],
      "text/plain": [
       "       Loan_ID loan_status  Principal  terms effective_date   due_date  \\\n",
       "0  xqd20166231     PAIDOFF       1000     30       9/8/2016  10/7/2016   \n",
       "1  xqd20168902     PAIDOFF       1000     30       9/8/2016  10/7/2016   \n",
       "2  xqd20160003     PAIDOFF       1000     30       9/8/2016  10/7/2016   \n",
       "3  xqd20160004     PAIDOFF       1000     15       9/8/2016  9/22/2016   \n",
       "4  xqd20160005     PAIDOFF       1000     30       9/9/2016  10/8/2016   \n",
       "\n",
       "     paid_off_time  past_due_days  age             education  Gender  \n",
       "0  9/14/2016 19:31            NaN   45  High School or Below    male  \n",
       "1   10/7/2016 9:00            NaN   50              Bechalor  female  \n",
       "2  9/25/2016 16:58            NaN   33              Bechalor  female  \n",
       "3  9/22/2016 20:00            NaN   27               college    male  \n",
       "4  9/23/2016 21:36            NaN   28               college  female  "
      ]
     },
     "execution_count": 6,
     "metadata": {},
     "output_type": "execute_result"
    }
   ],
   "source": [
    "df.head()"
   ]
  },
  {
   "cell_type": "code",
   "execution_count": 7,
   "id": "60bbe060",
   "metadata": {},
   "outputs": [
    {
     "name": "stdout",
     "output_type": "stream",
     "text": [
      "(500, 11)\n"
     ]
    }
   ],
   "source": [
    "print( df.shape)\n"
   ]
  },
  {
   "cell_type": "code",
   "execution_count": 8,
   "id": "c1b51749",
   "metadata": {},
   "outputs": [],
   "source": [
    "df = df.dropna(subset=['Principal', 'terms', 'age'])\n"
   ]
  },
  {
   "cell_type": "code",
   "execution_count": 9,
   "id": "9785a546",
   "metadata": {},
   "outputs": [],
   "source": [
    "df['effective_date'] = pd.to_datetime(df['effective_date'])\n",
    "df['due_date'] = pd.to_datetime(df['due_date'])\n",
    "df['paid_off_time'] = pd.to_datetime(df['paid_off_time'])\n"
   ]
  },
  {
   "cell_type": "code",
   "execution_count": 10,
   "id": "b5f1c0e5",
   "metadata": {},
   "outputs": [
    {
     "name": "stdout",
     "output_type": "stream",
     "text": [
      "<class 'pandas.core.frame.DataFrame'>\n",
      "RangeIndex: 500 entries, 0 to 499\n",
      "Data columns (total 11 columns):\n",
      " #   Column          Non-Null Count  Dtype         \n",
      "---  ------          --------------  -----         \n",
      " 0   Loan_ID         500 non-null    object        \n",
      " 1   loan_status     500 non-null    object        \n",
      " 2   Principal       500 non-null    int64         \n",
      " 3   terms           500 non-null    int64         \n",
      " 4   effective_date  500 non-null    datetime64[ns]\n",
      " 5   due_date        500 non-null    datetime64[ns]\n",
      " 6   paid_off_time   400 non-null    datetime64[ns]\n",
      " 7   past_due_days   200 non-null    float64       \n",
      " 8   age             500 non-null    int64         \n",
      " 9   education       500 non-null    object        \n",
      " 10  Gender          500 non-null    object        \n",
      "dtypes: datetime64[ns](3), float64(1), int64(3), object(4)\n",
      "memory usage: 43.1+ KB\n",
      "None\n"
     ]
    }
   ],
   "source": [
    "print(df.info())\n"
   ]
  },
  {
   "cell_type": "code",
   "execution_count": 11,
   "id": "5a337341",
   "metadata": {},
   "outputs": [
    {
     "name": "stdout",
     "output_type": "stream",
     "text": [
      "\n",
      "Average loan amount: 943.20\n"
     ]
    }
   ],
   "source": [
    "avg_principal = df['Principal'].mean()\n",
    "print(f\"\\nAverage loan amount: {avg_principal:.2f}\")"
   ]
  },
  {
   "cell_type": "code",
   "execution_count": 12,
   "id": "20ff197c",
   "metadata": {},
   "outputs": [
    {
     "name": "stdout",
     "output_type": "stream",
     "text": [
      "Oldest borrower: 51 years\n",
      "Youngest borrower: 18 years\n"
     ]
    }
   ],
   "source": [
    "max_age = df['age'].max()\n",
    "min_age = df['age'].min()\n",
    "print(f\"Oldest borrower: {max_age} years\")\n",
    "print(f\"Youngest borrower: {min_age} years\")\n"
   ]
  },
  {
   "cell_type": "code",
   "execution_count": 13,
   "id": "fd434602",
   "metadata": {},
   "outputs": [
    {
     "name": "stdout",
     "output_type": "stream",
     "text": [
      "\n",
      "Loan status counts:\n",
      "loan_status\n",
      "PAIDOFF               300\n",
      "COLLECTION            100\n",
      "COLLECTION_PAIDOFF    100\n",
      "Name: count, dtype: int64\n"
     ]
    }
   ],
   "source": [
    "status_counts = df['loan_status'].value_counts()\n",
    "print(\"\\nLoan status counts:\")\n",
    "print(status_counts)\n"
   ]
  },
  {
   "cell_type": "code",
   "execution_count": 14,
   "id": "2079d077",
   "metadata": {},
   "outputs": [
    {
     "name": "stdout",
     "output_type": "stream",
     "text": [
      "\n",
      "Percentage of paidoff loans: 60.0%\n"
     ]
    }
   ],
   "source": [
    "paidoff_pct = (df['loan_status'] == 'PAIDOFF').mean() * 100\n",
    "print(f\"\\nPercentage of paidoff loans: {paidoff_pct:.1f}%\")"
   ]
  },
  {
   "cell_type": "code",
   "execution_count": 15,
   "id": "b185e278",
   "metadata": {},
   "outputs": [],
   "source": [
    "df['actual_duration'] = (df['paid_off_time'] - df['effective_date']).dt.days\n"
   ]
  },
  {
   "cell_type": "code",
   "execution_count": 16,
   "id": "baf09a53",
   "metadata": {},
   "outputs": [
    {
     "name": "stdout",
     "output_type": "stream",
     "text": [
      "\n",
      "Loan ID with shortest duration: xqd20160706\n"
     ]
    }
   ],
   "source": [
    "shortest_loan = df.loc[df['actual_duration'].idxmin(), 'Loan_ID']\n",
    "print(f\"\\nLoan ID with shortest duration: {shortest_loan}\")\n"
   ]
  },
  {
   "cell_type": "code",
   "execution_count": 17,
   "id": "ced13e94",
   "metadata": {},
   "outputs": [
    {
     "name": "stdout",
     "output_type": "stream",
     "text": [
      "\n",
      "Loan distribution by education:\n",
      "education\n",
      "college                 220\n",
      "High School or Below    209\n",
      "Bechalor                 67\n",
      "Master or Above           4\n",
      "Name: count, dtype: int64\n"
     ]
    }
   ],
   "source": [
    "edu_dist = df['education'].value_counts()\n",
    "print(\"\\nLoan distribution by education:\")\n",
    "print(edu_dist)"
   ]
  },
  {
   "cell_type": "code",
   "execution_count": 18,
   "id": "b3f4a07e",
   "metadata": {},
   "outputs": [
    {
     "name": "stdout",
     "output_type": "stream",
     "text": [
      "\n",
      "Average age by gender:\n",
      "Gender\n",
      "female    31.883117\n",
      "male      30.976359\n",
      "Name: age, dtype: float64\n"
     ]
    }
   ],
   "source": [
    "avg_age_by_gender = df.groupby('Gender')['age'].mean()\n",
    "print(\"\\nAverage age by gender:\")\n",
    "print(avg_age_by_gender)"
   ]
  },
  {
   "cell_type": "code",
   "execution_count": 19,
   "id": "c1b00fcf",
   "metadata": {},
   "outputs": [
    {
     "name": "stdout",
     "output_type": "stream",
     "text": [
      "\n",
      "Average principal by term length:\n",
      "terms\n",
      "7     752.380952\n",
      "15    893.719807\n",
      "30    995.588235\n",
      "Name: Principal, dtype: float64\n"
     ]
    }
   ],
   "source": [
    "avg_by_term = df.groupby('terms')['Principal'].mean()\n",
    "print(\"\\nAverage principal by term length:\")\n",
    "print(avg_by_term)\n"
   ]
  },
  {
   "cell_type": "code",
   "execution_count": 20,
   "id": "6583c0a3",
   "metadata": {},
   "outputs": [],
   "source": [
    "df['status_numeric'] = df['loan_status'].map({'PAIDOFF': 1, 'COLLECTION': 0})\n"
   ]
  },
  {
   "cell_type": "code",
   "execution_count": 21,
   "id": "bbbbf089",
   "metadata": {},
   "outputs": [
    {
     "name": "stdout",
     "output_type": "stream",
     "text": [
      "\n",
      "Correlation matrix:\n",
      "                Principal     terms       age  status_numeric\n",
      "Principal        1.000000  0.534302 -0.092613       -0.068454\n",
      "terms            0.534302  1.000000 -0.074259       -0.092776\n",
      "age             -0.092613 -0.074259  1.000000        0.043115\n",
      "status_numeric  -0.068454 -0.092776  0.043115        1.000000\n"
     ]
    }
   ],
   "source": [
    "correlations = df[['Principal', 'terms', 'age', 'status_numeric']].corr()\n",
    "print(\"\\nCorrelation matrix:\")\n",
    "print(correlations)\n"
   ]
  },
  {
   "cell_type": "code",
   "execution_count": 22,
   "id": "6f740a51",
   "metadata": {},
   "outputs": [
    {
     "name": "stdout",
     "output_type": "stream",
     "text": [
      "\n",
      "Number of past due loans: 200\n"
     ]
    }
   ],
   "source": [
    "past_due = df['past_due_days'].notna().sum()\n",
    "print(f\"\\nNumber of past due loans: {past_due}\")"
   ]
  },
  {
   "cell_type": "code",
   "execution_count": 23,
   "id": "7333d5c2",
   "metadata": {},
   "outputs": [
    {
     "name": "stdout",
     "output_type": "stream",
     "text": [
      "Most common education among female borrowers: college\n"
     ]
    }
   ],
   "source": [
    "common_edu_female = df[df['Gender'] == 'female']['education'].mode()[0]\n",
    "print(f\"Most common education among female borrowers: {common_edu_female}\")\n"
   ]
  },
  {
   "cell_type": "code",
   "execution_count": 24,
   "id": "f519be4c",
   "metadata": {},
   "outputs": [],
   "source": [
    "bins = [0, 25, 35, 45, 55, 100]\n",
    "labels = ['18-25', '26-35', '36-45', '46-55', '56+']\n",
    "df['age_group'] = pd.cut(df['age'], bins=bins, labels=labels)"
   ]
  },
  {
   "cell_type": "code",
   "execution_count": 25,
   "id": "a7f1c1b7",
   "metadata": {},
   "outputs": [
    {
     "name": "stdout",
     "output_type": "stream",
     "text": [
      "\n",
      "Default rate by age group:\n",
      "age_group\n",
      "18-25    24.000000\n",
      "26-35    19.496855\n",
      "36-45    19.354839\n",
      "46-55    14.285714\n",
      "56+            NaN\n",
      "Name: loan_status, dtype: float64\n"
     ]
    },
    {
     "name": "stderr",
     "output_type": "stream",
     "text": [
      "C:\\Users\\User\\AppData\\Local\\Temp\\ipykernel_23508\\2773353612.py:1: FutureWarning: The default of observed=False is deprecated and will be changed to True in a future version of pandas. Pass observed=False to retain current behavior or observed=True to adopt the future default and silence this warning.\n",
      "  default_rates = df.groupby('age_group')['loan_status'].apply(\n"
     ]
    }
   ],
   "source": [
    "default_rates = df.groupby('age_group')['loan_status'].apply(\n",
    "    lambda x: (x == 'COLLECTION').mean() * 100)\n",
    "print(\"\\nDefault rate by age group:\")\n",
    "print(default_rates)"
   ]
  },
  {
   "cell_type": "code",
   "execution_count": null,
   "id": "9760bf6b",
   "metadata": {},
   "outputs": [],
   "source": []
  }
 ],
 "metadata": {
  "kernelspec": {
   "display_name": "Python 3",
   "language": "python",
   "name": "python3"
  },
  "language_info": {
   "codemirror_mode": {
    "name": "ipython",
    "version": 3
   },
   "file_extension": ".py",
   "mimetype": "text/x-python",
   "name": "python",
   "nbconvert_exporter": "python",
   "pygments_lexer": "ipython3",
   "version": "3.10.10"
  }
 },
 "nbformat": 4,
 "nbformat_minor": 5
}
